{
 "cells": [
  {
   "cell_type": "code",
   "execution_count": 16,
   "metadata": {},
   "outputs": [],
   "source": [
    "import numpy as np\n",
    "from osgeo import gdal, gdal_array\n",
    "import argparse\n",
    "import os"
   ]
  },
  {
   "cell_type": "code",
   "execution_count": 46,
   "metadata": {},
   "outputs": [],
   "source": [
    "def isRasterEmpty(file, output_array=\"No\"):\n",
    "    dataset = gdal.Open(file)\n",
    "    array = np.array(dataset.GetRasterBand(1).ReadAsArray())\n",
    "    \n",
    "    if output_array == \"Yes\":\n",
    "        print(array)\n",
    "    else:\n",
    "        pass\n",
    "\n",
    "    if np.max(array) > 0:\n",
    "        print(\"OK\")\n",
    "        empty = False\n",
    "    else:\n",
    "        print(\"PROBLEM\")\n",
    "        empty = True\n",
    "\n",
    "    return empty"
   ]
  },
  {
   "cell_type": "code",
   "execution_count": 47,
   "metadata": {},
   "outputs": [
    {
     "name": "stdout",
     "output_type": "stream",
     "text": [
      "PROBLEM\n"
     ]
    }
   ],
   "source": [
    "test_novalue = isRasterEmpty(\"20170830_103001006F884000_3000020_jpeg_compressed.tif\")"
   ]
  },
  {
   "cell_type": "code",
   "execution_count": 48,
   "metadata": {},
   "outputs": [
    {
     "name": "stdout",
     "output_type": "stream",
     "text": [
      "OK\n"
     ]
    }
   ],
   "source": [
    "test_hasvalue = isRasterEmpty(\"20170830_103001006F884000_2131130_jpeg_compressed.tif\")"
   ]
  },
  {
   "cell_type": "code",
   "execution_count": 99,
   "metadata": {},
   "outputs": [],
   "source": [
    "def areRastersEmpty(directory):\n",
    "    total_list = []\n",
    "\n",
    "    for file in os.listdir(directory):\n",
    "        empty = isRasterEmpty(directory + \"/\" + file)\n",
    "        if empty == True:\n",
    "            result = \"Problem\"\n",
    "        else:\n",
    "            result = \"OK\"\n",
    "        single_list = [file, result]\n",
    "        total_list.append(single_list)\n",
    "\n",
    "    return total_list"
   ]
  },
  {
   "cell_type": "code",
   "execution_count": 102,
   "metadata": {},
   "outputs": [
    {
     "name": "stdout",
     "output_type": "stream",
     "text": [
      "OK\n",
      "OK\n",
      "PROBLEM\n",
      "OK\n",
      "OK\n",
      "OK\n",
      "OK\n",
      "OK\n",
      "OK\n",
      "OK\n",
      "OK\n",
      "OK\n"
     ]
    }
   ],
   "source": [
    "test_list = areRastersEmpty(\"test_files/\")"
   ]
  },
  {
   "cell_type": "code",
   "execution_count": 101,
   "metadata": {},
   "outputs": [
    {
     "data": {
      "text/plain": [
       "[['20170830_103001006F884000_2131130_jpeg_compressed.tif', 'OK'],\n",
       " ['20170830_103001006F884000_2131313_jpeg_compressed.tif', 'OK'],\n",
       " ['20170830_103001006F884000_3000020_jpeg_compressed.tif', 'Problem'],\n",
       " ['20170830_103001006F884000_2131111_jpeg_compressed.tif', 'OK'],\n",
       " ['20170830_103001006F884000_2131113_jpeg_compressed.tif', 'OK'],\n",
       " ['20170830_103001006F884000_2131312_jpeg_compressed.tif', 'OK'],\n",
       " ['20170830_103001006F884000_2131310_jpeg_compressed.tif', 'OK'],\n",
       " ['20170830_103001006F884000_2131133_jpeg_compressed.tif', 'OK'],\n",
       " ['20170830_103001006F884000_2131311_jpeg_compressed.tif', 'OK'],\n",
       " ['20170830_103001006F884000_2131131_jpeg_compressed.tif', 'OK'],\n",
       " ['20170830_103001006F884000_2131132_jpeg_compressed.tif', 'OK'],\n",
       " ['20170830_103001006F884000_2131110_jpeg_compressed.tif', 'OK']]"
      ]
     },
     "execution_count": 101,
     "metadata": {},
     "output_type": "execute_result"
    }
   ],
   "source": [
    "test_list"
   ]
  },
  {
   "cell_type": "code",
   "execution_count": null,
   "metadata": {},
   "outputs": [],
   "source": []
  }
 ],
 "metadata": {
  "kernelspec": {
   "display_name": "Python 3",
   "language": "python",
   "name": "python3"
  },
  "language_info": {
   "codemirror_mode": {
    "name": "ipython",
    "version": 3
   },
   "file_extension": ".py",
   "mimetype": "text/x-python",
   "name": "python",
   "nbconvert_exporter": "python",
   "pygments_lexer": "ipython3",
   "version": "3.5.2"
  }
 },
 "nbformat": 4,
 "nbformat_minor": 2
}
