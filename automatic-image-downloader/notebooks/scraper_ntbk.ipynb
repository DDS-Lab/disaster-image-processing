{
 "cells": [
  {
   "cell_type": "code",
   "execution_count": 1,
   "metadata": {},
   "outputs": [],
   "source": [
    "# import libraries\n",
    "import urllib2\n",
    "from bs4 import BeautifulSoup"
   ]
  },
  {
   "cell_type": "code",
   "execution_count": 2,
   "metadata": {},
   "outputs": [],
   "source": [
    "# specify the URL\n",
    "quote_page = 'https://www.digitalglobe.com/opendata/hurricane-harvey/pre-event'"
   ]
  },
  {
   "cell_type": "code",
   "execution_count": 3,
   "metadata": {},
   "outputs": [],
   "source": [
    "# query the website and return the html to the variable 'page'\n",
    "page = urllib2.urlopen(quote_page)"
   ]
  },
  {
   "cell_type": "code",
   "execution_count": 4,
   "metadata": {},
   "outputs": [],
   "source": [
    "# parse the html using beautiful soup and store in variable `soup`\n",
    "soup = BeautifulSoup(page, 'html.parser')"
   ]
  },
  {
   "cell_type": "code",
   "execution_count": 5,
   "metadata": {},
   "outputs": [],
   "source": [
    "# query out 'textarea' which is the html tag for the links\n",
    "name_box = soup.findAll('textarea')"
   ]
  },
  {
   "cell_type": "code",
   "execution_count": 33,
   "metadata": {},
   "outputs": [
    {
     "data": {
      "text/plain": [
       "<function close>"
      ]
     },
     "execution_count": 33,
     "metadata": {},
     "output_type": "execute_result"
    }
   ],
   "source": [
    "text_file = open('list.txt', 'w+')\n",
    "\n",
    "for i in name_box:\n",
    "    text_file.write(i.contents[0])\n",
    "\n",
    "text_file.close"
   ]
  },
  {
   "cell_type": "code",
   "execution_count": 31,
   "metadata": {},
   "outputs": [
    {
     "data": {
      "text/plain": [
       "u'\\n                              http://opendata.digitalglobe.com/hurricane-harvey/pre-event/2017-04-03/1030010067B30500/0332210.tif\\n                              http://opendata.digitalglobe.com/hurricane-harvey/pre-event/2017-04-03/1030010067B30500/0332210.tif.ovr\\n                              http://opendata.digitalglobe.com/hurricane-harvey/pre-event/2017-04-03/1030010067B30500/0332211.tif\\n                              http://opendata.digitalglobe.com/hurricane-harvey/pre-event/2017-04-03/1030010067B30500/0332211.tif.ovr\\n                              http://opendata.digitalglobe.com/hurricane-harvey/pre-event/2017-04-03/1030010067B30500/0332212.tif\\n                              http://opendata.digitalglobe.com/hurricane-harvey/pre-event/2017-04-03/1030010067B30500/0332212.tif.ovr\\n                              http://opendata.digitalglobe.com/hurricane-harvey/pre-event/2017-04-03/1030010067B30500/0332213.tif\\n                              http://opendata.digitalglobe.com/hurricane-harvey/pre-event/2017-04-03/1030010067B30500/0332213.tif.ovr\\n                              http://opendata.digitalglobe.com/hurricane-harvey/pre-event/2017-04-03/1030010067B30500/0332230.tif\\n                              http://opendata.digitalglobe.com/hurricane-harvey/pre-event/2017-04-03/1030010067B30500/0332230.tif.ovr\\n                              http://opendata.digitalglobe.com/hurricane-harvey/pre-event/2017-04-03/1030010067B30500/0332231.tif\\n                              http://opendata.digitalglobe.com/hurricane-harvey/pre-event/2017-04-03/1030010067B30500/0332231.tif.ovr\\n                              http://opendata.digitalglobe.com/hurricane-harvey/pre-event/2017-04-03/1030010067B30500/0332232.tif\\n                              http://opendata.digitalglobe.com/hurricane-harvey/pre-event/2017-04-03/1030010067B30500/0332232.tif.ovr\\n                              http://opendata.digitalglobe.com/hurricane-harvey/pre-event/2017-04-03/1030010067B30500/0332233.tif\\n                              http://opendata.digitalglobe.com/hurricane-harvey/pre-event/2017-04-03/1030010067B30500/0332233.tif.ovr\\n                              http://opendata.digitalglobe.com/hurricane-harvey/pre-event/2017-04-03/1030010067B30500/0332300.tif\\n                              http://opendata.digitalglobe.com/hurricane-harvey/pre-event/2017-04-03/1030010067B30500/0332300.tif.ovr\\n                              http://opendata.digitalglobe.com/hurricane-harvey/pre-event/2017-04-03/1030010067B30500/0332302.tif\\n                              http://opendata.digitalglobe.com/hurricane-harvey/pre-event/2017-04-03/1030010067B30500/0332302.tif.ovr\\n                              http://opendata.digitalglobe.com/hurricane-harvey/pre-event/2017-04-03/1030010067B30500/0332320.tif\\n                              http://opendata.digitalglobe.com/hurricane-harvey/pre-event/2017-04-03/1030010067B30500/0332320.tif.ovr\\n                              http://opendata.digitalglobe.com/hurricane-harvey/pre-event/2017-04-03/1030010067B30500/0332322.tif\\n                              http://opendata.digitalglobe.com/hurricane-harvey/pre-event/2017-04-03/1030010067B30500/0332322.tif.ovr\\n                              http://opendata.digitalglobe.com/hurricane-harvey/pre-event/2017-04-03/1030010067B30500/2110010.tif\\n                              http://opendata.digitalglobe.com/hurricane-harvey/pre-event/2017-04-03/1030010067B30500/2110010.tif.ovr\\n                              http://opendata.digitalglobe.com/hurricane-harvey/pre-event/2017-04-03/1030010067B30500/2110011.tif\\n                              http://opendata.digitalglobe.com/hurricane-harvey/pre-event/2017-04-03/1030010067B30500/2110011.tif.ovr\\n                              http://opendata.digitalglobe.com/hurricane-harvey/pre-event/2017-04-03/1030010067B30500/2110012.tif\\n                              http://opendata.digitalglobe.com/hurricane-harvey/pre-event/2017-04-03/1030010067B30500/2110012.tif.ovr\\n                              http://opendata.digitalglobe.com/hurricane-harvey/pre-event/2017-04-03/1030010067B30500/2110013.tif\\n                              http://opendata.digitalglobe.com/hurricane-harvey/pre-event/2017-04-03/1030010067B30500/2110013.tif.ovr\\n                              http://opendata.digitalglobe.com/hurricane-harvey/pre-event/2017-04-03/1030010067B30500/2110030.tif\\n                              http://opendata.digitalglobe.com/hurricane-harvey/pre-event/2017-04-03/1030010067B30500/2110030.tif.ovr\\n                              http://opendata.digitalglobe.com/hurricane-harvey/pre-event/2017-04-03/1030010067B30500/2110031.tif\\n                              http://opendata.digitalglobe.com/hurricane-harvey/pre-event/2017-04-03/1030010067B30500/2110031.tif.ovr\\n                              http://opendata.digitalglobe.com/hurricane-harvey/pre-event/2017-04-03/1030010067B30500/2110032.tif\\n                              http://opendata.digitalglobe.com/hurricane-harvey/pre-event/2017-04-03/1030010067B30500/2110032.tif.ovr\\n                              http://opendata.digitalglobe.com/hurricane-harvey/pre-event/2017-04-03/1030010067B30500/2110033.tif\\n                              http://opendata.digitalglobe.com/hurricane-harvey/pre-event/2017-04-03/1030010067B30500/2110033.tif.ovr\\n                              http://opendata.digitalglobe.com/hurricane-harvey/pre-event/2017-04-03/1030010067B30500/2110100.tif\\n                              http://opendata.digitalglobe.com/hurricane-harvey/pre-event/2017-04-03/1030010067B30500/2110100.tif.ovr\\n                              http://opendata.digitalglobe.com/hurricane-harvey/pre-event/2017-04-03/1030010067B30500/2110102.tif\\n                              http://opendata.digitalglobe.com/hurricane-harvey/pre-event/2017-04-03/1030010067B30500/2110102.tif.ovr\\n                              http://opendata.digitalglobe.com/hurricane-harvey/pre-event/2017-04-03/1030010067B30500/2110120.tif\\n                              http://opendata.digitalglobe.com/hurricane-harvey/pre-event/2017-04-03/1030010067B30500/2110120.tif.ovr\\n                              http://opendata.digitalglobe.com/hurricane-harvey/pre-event/2017-04-03/1030010067B30500/2110122.tif\\n                              http://opendata.digitalglobe.com/hurricane-harvey/pre-event/2017-04-03/1030010067B30500/2110122.tif.ovr\\n                              http://opendata.digitalglobe.com/hurricane-harvey/pre-event/2017-04-03/1030010067B30500/2110210.tif\\n                              http://opendata.digitalglobe.com/hurricane-harvey/pre-event/2017-04-03/1030010067B30500/2110210.tif.ovr\\n                              http://opendata.digitalglobe.com/hurricane-harvey/pre-event/2017-04-03/1030010067B30500/2110211.tif\\n                              http://opendata.digitalglobe.com/hurricane-harvey/pre-event/2017-04-03/1030010067B30500/2110211.tif.ovr\\n                              http://opendata.digitalglobe.com/hurricane-harvey/pre-event/2017-04-03/1030010067B30500/2110212.tif\\n                              http://opendata.digitalglobe.com/hurricane-harvey/pre-event/2017-04-03/1030010067B30500/2110212.tif.ovr\\n                              http://opendata.digitalglobe.com/hurricane-harvey/pre-event/2017-04-03/1030010067B30500/2110213.tif\\n                              http://opendata.digitalglobe.com/hurricane-harvey/pre-event/2017-04-03/1030010067B30500/2110213.tif.ovr\\n                              http://opendata.digitalglobe.com/hurricane-harvey/pre-event/2017-04-03/1030010067B30500/2110230.tif\\n                              http://opendata.digitalglobe.com/hurricane-harvey/pre-event/2017-04-03/1030010067B30500/2110230.tif.ovr\\n                              http://opendata.digitalglobe.com/hurricane-harvey/pre-event/2017-04-03/1030010067B30500/2110231.tif\\n                              http://opendata.digitalglobe.com/hurricane-harvey/pre-event/2017-04-03/1030010067B30500/2110231.tif.ovr\\n                              http://opendata.digitalglobe.com/hurricane-harvey/pre-event/2017-04-03/1030010067B30500/2110232.tif\\n                              http://opendata.digitalglobe.com/hurricane-harvey/pre-event/2017-04-03/1030010067B30500/2110232.tif.ovr\\n                              http://opendata.digitalglobe.com/hurricane-harvey/pre-event/2017-04-03/1030010067B30500/2110233.tif\\n                              http://opendata.digitalglobe.com/hurricane-harvey/pre-event/2017-04-03/1030010067B30500/2110233.tif.ovr\\n                              http://opendata.digitalglobe.com/hurricane-harvey/pre-event/2017-04-03/1030010067B30500/2110300.tif\\n                              http://opendata.digitalglobe.com/hurricane-harvey/pre-event/2017-04-03/1030010067B30500/2110300.tif.ovr\\n                              http://opendata.digitalglobe.com/hurricane-harvey/pre-event/2017-04-03/1030010067B30500/2110302.tif\\n                              http://opendata.digitalglobe.com/hurricane-harvey/pre-event/2017-04-03/1030010067B30500/2110302.tif.ovr\\n                              http://opendata.digitalglobe.com/hurricane-harvey/pre-event/2017-04-03/1030010067B30500/2110320.tif\\n                              http://opendata.digitalglobe.com/hurricane-harvey/pre-event/2017-04-03/1030010067B30500/2110320.tif.ovr\\n                              http://opendata.digitalglobe.com/hurricane-harvey/pre-event/2017-04-03/1030010067B30500/2110322.tif\\n                              http://opendata.digitalglobe.com/hurricane-harvey/pre-event/2017-04-03/1030010067B30500/2110322.tif.ovr\\n                              http://opendata.digitalglobe.com/hurricane-harvey/pre-event/2017-04-03/1030010067B30500/2112010.tif\\n                              http://opendata.digitalglobe.com/hurricane-harvey/pre-event/2017-04-03/1030010067B30500/2112010.tif.ovr\\n                              http://opendata.digitalglobe.com/hurricane-harvey/pre-event/2017-04-03/1030010067B30500/2112011.tif\\n                              http://opendata.digitalglobe.com/hurricane-harvey/pre-event/2017-04-03/1030010067B30500/2112011.tif.ovr\\n                              http://opendata.digitalglobe.com/hurricane-harvey/pre-event/2017-04-03/1030010067B30500/2112012.tif\\n                              http://opendata.digitalglobe.com/hurricane-harvey/pre-event/2017-04-03/1030010067B30500/2112012.tif.ovr\\n                              http://opendata.digitalglobe.com/hurricane-harvey/pre-event/2017-04-03/1030010067B30500/2112013.tif\\n                              http://opendata.digitalglobe.com/hurricane-harvey/pre-event/2017-04-03/1030010067B30500/2112013.tif.ovr\\n                              http://opendata.digitalglobe.com/hurricane-harvey/pre-event/2017-04-03/1030010067B30500/2112030.tif\\n                              http://opendata.digitalglobe.com/hurricane-harvey/pre-event/2017-04-03/1030010067B30500/2112030.tif.ovr\\n                              http://opendata.digitalglobe.com/hurricane-harvey/pre-event/2017-04-03/1030010067B30500/2112031.tif\\n                              http://opendata.digitalglobe.com/hurricane-harvey/pre-event/2017-04-03/1030010067B30500/2112031.tif.ovr\\n                              http://opendata.digitalglobe.com/hurricane-harvey/pre-event/2017-04-03/1030010067B30500/2112100.tif\\n                              http://opendata.digitalglobe.com/hurricane-harvey/pre-event/2017-04-03/1030010067B30500/2112100.tif.ovr\\n                              http://opendata.digitalglobe.com/hurricane-harvey/pre-event/2017-04-03/1030010067B30500/2112102.tif\\n                              http://opendata.digitalglobe.com/hurricane-harvey/pre-event/2017-04-03/1030010067B30500/2112102.tif.ovr\\n                              http://opendata.digitalglobe.com/hurricane-harvey/pre-event/2017-04-03/1030010067B30500/2112120.tif\\n                              http://opendata.digitalglobe.com/hurricane-harvey/pre-event/2017-04-03/1030010067B30500/2112120.tif.ovr\\n                          '"
      ]
     },
     "execution_count": 31,
     "metadata": {},
     "output_type": "execute_result"
    }
   ],
   "source": [
    "name_box[1].contents[0]"
   ]
  },
  {
   "cell_type": "code",
   "execution_count": null,
   "metadata": {},
   "outputs": [],
   "source": []
  }
 ],
 "metadata": {
  "kernelspec": {
   "display_name": "Python 2",
   "language": "python",
   "name": "python2"
  },
  "language_info": {
   "codemirror_mode": {
    "name": "ipython",
    "version": 2
   },
   "file_extension": ".py",
   "mimetype": "text/x-python",
   "name": "python",
   "nbconvert_exporter": "python",
   "pygments_lexer": "ipython2",
   "version": "2.7.15"
  }
 },
 "nbformat": 4,
 "nbformat_minor": 2
}
