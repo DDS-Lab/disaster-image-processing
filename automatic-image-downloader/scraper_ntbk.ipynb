{
 "cells": [
  {
   "cell_type": "code",
   "execution_count": 1,
   "metadata": {},
   "outputs": [],
   "source": [
    "# import libraries\n",
    "import urllib2\n",
    "from bs4 import BeautifulSoup"
   ]
  },
  {
   "cell_type": "code",
   "execution_count": 2,
   "metadata": {},
   "outputs": [],
   "source": [
    "# specify the URL\n",
    "quote_page = 'https://www.digitalglobe.com/opendata/hurricane-harvey/pre-event'"
   ]
  },
  {
   "cell_type": "code",
   "execution_count": 3,
   "metadata": {},
   "outputs": [],
   "source": [
    "# query the website and return the html to the variable 'page'\n",
    "page = urllib2.urlopen(quote_page)"
   ]
  },
  {
   "cell_type": "code",
   "execution_count": 6,
   "metadata": {},
   "outputs": [],
   "source": [
    "# parse the html using beautiful soup and store in variable `soup`\n",
    "soup = BeautifulSoup(page, 'html.parser')"
   ]
  },
  {
   "cell_type": "code",
   "execution_count": 8,
   "metadata": {},
   "outputs": [],
   "source": [
    "# Quqery the value we need. Take out the <div> of name and get its value\n",
    "name_box = soup.find('textarea', attrs={'id': 'links-10300100681FAC00'})"
   ]
  },
  {
   "cell_type": "code",
   "execution_count": 9,
   "metadata": {},
   "outputs": [
    {
     "name": "stdout",
     "output_type": "stream",
     "text": [
      "http://opendata.digitalglobe.com/hurricane-harvey/pre-event/2017-04-03/10300100681FAC00/0332200.tif\n",
      "                              http://opendata.digitalglobe.com/hurricane-harvey/pre-event/2017-04-03/10300100681FAC00/0332200.tif.ovr\n",
      "                              http://opendata.digitalglobe.com/hurricane-harvey/pre-event/2017-04-03/10300100681FAC00/0332201.tif\n",
      "                              http://opendata.digitalglobe.com/hurricane-harvey/pre-event/2017-04-03/10300100681FAC00/0332201.tif.ovr\n",
      "                              http://opendata.digitalglobe.com/hurricane-harvey/pre-event/2017-04-03/10300100681FAC00/0332202.tif\n",
      "                              http://opendata.digitalglobe.com/hurricane-harvey/pre-event/2017-04-03/10300100681FAC00/0332202.tif.ovr\n",
      "                              http://opendata.digitalglobe.com/hurricane-harvey/pre-event/2017-04-03/10300100681FAC00/0332203.tif\n",
      "                              http://opendata.digitalglobe.com/hurricane-harvey/pre-event/2017-04-03/10300100681FAC00/0332203.tif.ovr\n",
      "                              http://opendata.digitalglobe.com/hurricane-harvey/pre-event/2017-04-03/10300100681FAC00/0332210.tif\n",
      "                              http://opendata.digitalglobe.com/hurricane-harvey/pre-event/2017-04-03/10300100681FAC00/0332210.tif.ovr\n",
      "                              http://opendata.digitalglobe.com/hurricane-harvey/pre-event/2017-04-03/10300100681FAC00/0332212.tif\n",
      "                              http://opendata.digitalglobe.com/hurricane-harvey/pre-event/2017-04-03/10300100681FAC00/0332212.tif.ovr\n",
      "                              http://opendata.digitalglobe.com/hurricane-harvey/pre-event/2017-04-03/10300100681FAC00/0332220.tif\n",
      "                              http://opendata.digitalglobe.com/hurricane-harvey/pre-event/2017-04-03/10300100681FAC00/0332220.tif.ovr\n",
      "                              http://opendata.digitalglobe.com/hurricane-harvey/pre-event/2017-04-03/10300100681FAC00/0332221.tif\n",
      "                              http://opendata.digitalglobe.com/hurricane-harvey/pre-event/2017-04-03/10300100681FAC00/0332221.tif.ovr\n",
      "                              http://opendata.digitalglobe.com/hurricane-harvey/pre-event/2017-04-03/10300100681FAC00/0332222.tif\n",
      "                              http://opendata.digitalglobe.com/hurricane-harvey/pre-event/2017-04-03/10300100681FAC00/0332222.tif.ovr\n",
      "                              http://opendata.digitalglobe.com/hurricane-harvey/pre-event/2017-04-03/10300100681FAC00/0332223.tif\n",
      "                              http://opendata.digitalglobe.com/hurricane-harvey/pre-event/2017-04-03/10300100681FAC00/0332223.tif.ovr\n",
      "                              http://opendata.digitalglobe.com/hurricane-harvey/pre-event/2017-04-03/10300100681FAC00/0332230.tif\n",
      "                              http://opendata.digitalglobe.com/hurricane-harvey/pre-event/2017-04-03/10300100681FAC00/0332230.tif.ovr\n",
      "                              http://opendata.digitalglobe.com/hurricane-harvey/pre-event/2017-04-03/10300100681FAC00/0332232.tif\n",
      "                              http://opendata.digitalglobe.com/hurricane-harvey/pre-event/2017-04-03/10300100681FAC00/0332232.tif.ovr\n",
      "                              http://opendata.digitalglobe.com/hurricane-harvey/pre-event/2017-04-03/10300100681FAC00/2110000.tif\n",
      "                              http://opendata.digitalglobe.com/hurricane-harvey/pre-event/2017-04-03/10300100681FAC00/2110000.tif.ovr\n",
      "                              http://opendata.digitalglobe.com/hurricane-harvey/pre-event/2017-04-03/10300100681FAC00/2110001.tif\n",
      "                              http://opendata.digitalglobe.com/hurricane-harvey/pre-event/2017-04-03/10300100681FAC00/2110001.tif.ovr\n",
      "                              http://opendata.digitalglobe.com/hurricane-harvey/pre-event/2017-04-03/10300100681FAC00/2110002.tif\n",
      "                              http://opendata.digitalglobe.com/hurricane-harvey/pre-event/2017-04-03/10300100681FAC00/2110002.tif.ovr\n",
      "                              http://opendata.digitalglobe.com/hurricane-harvey/pre-event/2017-04-03/10300100681FAC00/2110003.tif\n",
      "                              http://opendata.digitalglobe.com/hurricane-harvey/pre-event/2017-04-03/10300100681FAC00/2110003.tif.ovr\n",
      "                              http://opendata.digitalglobe.com/hurricane-harvey/pre-event/2017-04-03/10300100681FAC00/2110010.tif\n",
      "                              http://opendata.digitalglobe.com/hurricane-harvey/pre-event/2017-04-03/10300100681FAC00/2110010.tif.ovr\n",
      "                              http://opendata.digitalglobe.com/hurricane-harvey/pre-event/2017-04-03/10300100681FAC00/2110012.tif\n",
      "                              http://opendata.digitalglobe.com/hurricane-harvey/pre-event/2017-04-03/10300100681FAC00/2110012.tif.ovr\n",
      "                              http://opendata.digitalglobe.com/hurricane-harvey/pre-event/2017-04-03/10300100681FAC00/2110020.tif\n",
      "                              http://opendata.digitalglobe.com/hurricane-harvey/pre-event/2017-04-03/10300100681FAC00/2110020.tif.ovr\n",
      "                              http://opendata.digitalglobe.com/hurricane-harvey/pre-event/2017-04-03/10300100681FAC00/2110021.tif\n",
      "                              http://opendata.digitalglobe.com/hurricane-harvey/pre-event/2017-04-03/10300100681FAC00/2110021.tif.ovr\n",
      "                              http://opendata.digitalglobe.com/hurricane-harvey/pre-event/2017-04-03/10300100681FAC00/2110022.tif\n",
      "                              http://opendata.digitalglobe.com/hurricane-harvey/pre-event/2017-04-03/10300100681FAC00/2110022.tif.ovr\n",
      "                              http://opendata.digitalglobe.com/hurricane-harvey/pre-event/2017-04-03/10300100681FAC00/2110023.tif\n",
      "                              http://opendata.digitalglobe.com/hurricane-harvey/pre-event/2017-04-03/10300100681FAC00/2110023.tif.ovr\n",
      "                              http://opendata.digitalglobe.com/hurricane-harvey/pre-event/2017-04-03/10300100681FAC00/2110030.tif\n",
      "                              http://opendata.digitalglobe.com/hurricane-harvey/pre-event/2017-04-03/10300100681FAC00/2110030.tif.ovr\n",
      "                              http://opendata.digitalglobe.com/hurricane-harvey/pre-event/2017-04-03/10300100681FAC00/2110032.tif\n",
      "                              http://opendata.digitalglobe.com/hurricane-harvey/pre-event/2017-04-03/10300100681FAC00/2110032.tif.ovr\n",
      "                              http://opendata.digitalglobe.com/hurricane-harvey/pre-event/2017-04-03/10300100681FAC00/2110200.tif\n",
      "                              http://opendata.digitalglobe.com/hurricane-harvey/pre-event/2017-04-03/10300100681FAC00/2110200.tif.ovr\n",
      "                              http://opendata.digitalglobe.com/hurricane-harvey/pre-event/2017-04-03/10300100681FAC00/2110201.tif\n",
      "                              http://opendata.digitalglobe.com/hurricane-harvey/pre-event/2017-04-03/10300100681FAC00/2110201.tif.ovr\n",
      "                              http://opendata.digitalglobe.com/hurricane-harvey/pre-event/2017-04-03/10300100681FAC00/2110202.tif\n",
      "                              http://opendata.digitalglobe.com/hurricane-harvey/pre-event/2017-04-03/10300100681FAC00/2110202.tif.ovr\n",
      "                              http://opendata.digitalglobe.com/hurricane-harvey/pre-event/2017-04-03/10300100681FAC00/2110203.tif\n",
      "                              http://opendata.digitalglobe.com/hurricane-harvey/pre-event/2017-04-03/10300100681FAC00/2110203.tif.ovr\n",
      "                              http://opendata.digitalglobe.com/hurricane-harvey/pre-event/2017-04-03/10300100681FAC00/2110210.tif\n",
      "                              http://opendata.digitalglobe.com/hurricane-harvey/pre-event/2017-04-03/10300100681FAC00/2110210.tif.ovr\n",
      "                              http://opendata.digitalglobe.com/hurricane-harvey/pre-event/2017-04-03/10300100681FAC00/2110212.tif\n",
      "                              http://opendata.digitalglobe.com/hurricane-harvey/pre-event/2017-04-03/10300100681FAC00/2110212.tif.ovr\n",
      "                              http://opendata.digitalglobe.com/hurricane-harvey/pre-event/2017-04-03/10300100681FAC00/2110220.tif\n",
      "                              http://opendata.digitalglobe.com/hurricane-harvey/pre-event/2017-04-03/10300100681FAC00/2110220.tif.ovr\n",
      "                              http://opendata.digitalglobe.com/hurricane-harvey/pre-event/2017-04-03/10300100681FAC00/2110221.tif\n",
      "                              http://opendata.digitalglobe.com/hurricane-harvey/pre-event/2017-04-03/10300100681FAC00/2110221.tif.ovr\n",
      "                              http://opendata.digitalglobe.com/hurricane-harvey/pre-event/2017-04-03/10300100681FAC00/2110222.tif\n",
      "                              http://opendata.digitalglobe.com/hurricane-harvey/pre-event/2017-04-03/10300100681FAC00/2110222.tif.ovr\n",
      "                              http://opendata.digitalglobe.com/hurricane-harvey/pre-event/2017-04-03/10300100681FAC00/2110223.tif\n",
      "                              http://opendata.digitalglobe.com/hurricane-harvey/pre-event/2017-04-03/10300100681FAC00/2110223.tif.ovr\n",
      "                              http://opendata.digitalglobe.com/hurricane-harvey/pre-event/2017-04-03/10300100681FAC00/2110230.tif\n",
      "                              http://opendata.digitalglobe.com/hurricane-harvey/pre-event/2017-04-03/10300100681FAC00/2110230.tif.ovr\n",
      "                              http://opendata.digitalglobe.com/hurricane-harvey/pre-event/2017-04-03/10300100681FAC00/2110232.tif\n",
      "                              http://opendata.digitalglobe.com/hurricane-harvey/pre-event/2017-04-03/10300100681FAC00/2110232.tif.ovr\n",
      "                              http://opendata.digitalglobe.com/hurricane-harvey/pre-event/2017-04-03/10300100681FAC00/2112000.tif\n",
      "                              http://opendata.digitalglobe.com/hurricane-harvey/pre-event/2017-04-03/10300100681FAC00/2112000.tif.ovr\n",
      "                              http://opendata.digitalglobe.com/hurricane-harvey/pre-event/2017-04-03/10300100681FAC00/2112001.tif\n",
      "                              http://opendata.digitalglobe.com/hurricane-harvey/pre-event/2017-04-03/10300100681FAC00/2112001.tif.ovr\n",
      "                              http://opendata.digitalglobe.com/hurricane-harvey/pre-event/2017-04-03/10300100681FAC00/2112002.tif\n",
      "                              http://opendata.digitalglobe.com/hurricane-harvey/pre-event/2017-04-03/10300100681FAC00/2112002.tif.ovr\n",
      "                              http://opendata.digitalglobe.com/hurricane-harvey/pre-event/2017-04-03/10300100681FAC00/2112003.tif\n",
      "                              http://opendata.digitalglobe.com/hurricane-harvey/pre-event/2017-04-03/10300100681FAC00/2112003.tif.ovr\n",
      "                              http://opendata.digitalglobe.com/hurricane-harvey/pre-event/2017-04-03/10300100681FAC00/2112010.tif\n",
      "                              http://opendata.digitalglobe.com/hurricane-harvey/pre-event/2017-04-03/10300100681FAC00/2112010.tif.ovr\n",
      "                              http://opendata.digitalglobe.com/hurricane-harvey/pre-event/2017-04-03/10300100681FAC00/2112012.tif\n",
      "                              http://opendata.digitalglobe.com/hurricane-harvey/pre-event/2017-04-03/10300100681FAC00/2112012.tif.ovr\n",
      "                              http://opendata.digitalglobe.com/hurricane-harvey/pre-event/2017-04-03/10300100681FAC00/2112020.tif\n",
      "                              http://opendata.digitalglobe.com/hurricane-harvey/pre-event/2017-04-03/10300100681FAC00/2112020.tif.ovr\n",
      "                              http://opendata.digitalglobe.com/hurricane-harvey/pre-event/2017-04-03/10300100681FAC00/2112021.tif\n",
      "                              http://opendata.digitalglobe.com/hurricane-harvey/pre-event/2017-04-03/10300100681FAC00/2112021.tif.ovr\n",
      "                              http://opendata.digitalglobe.com/hurricane-harvey/pre-event/2017-04-03/10300100681FAC00/2112030.tif\n",
      "                              http://opendata.digitalglobe.com/hurricane-harvey/pre-event/2017-04-03/10300100681FAC00/2112030.tif.ovr\n"
     ]
    }
   ],
   "source": [
    "name = name_box.text.strip() # strip() is used to remove starting and trailing\n",
    "print name"
   ]
  }
 ],
 "metadata": {
  "kernelspec": {
   "display_name": "Python 2",
   "language": "python",
   "name": "python2"
  },
  "language_info": {
   "codemirror_mode": {
    "name": "ipython",
    "version": 2
   },
   "file_extension": ".py",
   "mimetype": "text/x-python",
   "name": "python",
   "nbconvert_exporter": "python",
   "pygments_lexer": "ipython2",
   "version": "2.7.15"
  }
 },
 "nbformat": 4,
 "nbformat_minor": 2
}
