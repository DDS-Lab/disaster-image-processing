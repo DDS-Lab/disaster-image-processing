{
 "cells": [
  {
   "cell_type": "code",
   "execution_count": 1,
   "metadata": {},
   "outputs": [],
   "source": [
    "# import libraries\n",
    "import urllib2\n",
    "from bs4 import BeautifulSoup"
   ]
  },
  {
   "cell_type": "code",
   "execution_count": 2,
   "metadata": {},
   "outputs": [],
   "source": [
    "# specify the URL\n",
    "quote_page = 'https://www.digitalglobe.com/opendata/hurricane-harvey/pre-event'"
   ]
  },
  {
   "cell_type": "code",
   "execution_count": 3,
   "metadata": {},
   "outputs": [],
   "source": [
    "# query the website and return the html to the variable 'page'\n",
    "page = urllib2.urlopen(quote_page)"
   ]
  },
  {
   "cell_type": "code",
   "execution_count": 5,
   "metadata": {},
   "outputs": [],
   "source": [
    "# parse the html using beautiful soup and store in variable `soup`\n",
    "soup = BeautifulSoup(page, 'html.parser')"
   ]
  },
  {
   "cell_type": "code",
   "execution_count": 6,
   "metadata": {},
   "outputs": [],
   "source": [
    "# query out 'textarea' which is the html tag for the links\n",
    "name_box = soup.findAll('textarea')"
   ]
  },
  {
   "cell_type": "code",
   "execution_count": 17,
   "metadata": {},
   "outputs": [
    {
     "ename": "AttributeError",
     "evalue": "ResultSet object has no attribute 'text'. You're probably treating a list of items like a single item. Did you call find_all() when you meant to call find()?",
     "traceback": [
      "\u001b[0;31m---------------------------------------------------------------------------\u001b[0m",
      "\u001b[0;31mAttributeError\u001b[0m                            Traceback (most recent call last)",
      "\u001b[0;32m<ipython-input-17-4479d4a8a26d>\u001b[0m in \u001b[0;36m<module>\u001b[0;34m()\u001b[0m\n\u001b[0;32m----> 1\u001b[0;31m \u001b[0mname\u001b[0m \u001b[0;34m=\u001b[0m \u001b[0mname_box\u001b[0m\u001b[0;34m.\u001b[0m\u001b[0mtext\u001b[0m\u001b[0;34m.\u001b[0m\u001b[0mstrip\u001b[0m\u001b[0;34m(\u001b[0m\u001b[0;34m)\u001b[0m \u001b[0;31m# strip() is used to remove starting and trailing\u001b[0m\u001b[0;34m\u001b[0m\u001b[0m\n\u001b[0m\u001b[1;32m      2\u001b[0m \u001b[0;32mprint\u001b[0m \u001b[0mname\u001b[0m\u001b[0;34m\u001b[0m\u001b[0m\n",
      "\u001b[0;32m/Users/Andrew/anaconda3/envs/dssg-damage-annotation/lib/python2.7/site-packages/bs4/element.pyc\u001b[0m in \u001b[0;36m__getattr__\u001b[0;34m(self, key)\u001b[0m\n\u001b[1;32m   1805\u001b[0m     \u001b[0;32mdef\u001b[0m \u001b[0m__getattr__\u001b[0m\u001b[0;34m(\u001b[0m\u001b[0mself\u001b[0m\u001b[0;34m,\u001b[0m \u001b[0mkey\u001b[0m\u001b[0;34m)\u001b[0m\u001b[0;34m:\u001b[0m\u001b[0;34m\u001b[0m\u001b[0m\n\u001b[1;32m   1806\u001b[0m         raise AttributeError(\n\u001b[0;32m-> 1807\u001b[0;31m             \u001b[0;34m\"ResultSet object has no attribute '%s'. You're probably treating a list of items like a single item. Did you call find_all() when you meant to call find()?\"\u001b[0m \u001b[0;34m%\u001b[0m \u001b[0mkey\u001b[0m\u001b[0;34m\u001b[0m\u001b[0m\n\u001b[0m\u001b[1;32m   1808\u001b[0m         )\n",
      "\u001b[0;31mAttributeError\u001b[0m: ResultSet object has no attribute 'text'. You're probably treating a list of items like a single item. Did you call find_all() when you meant to call find()?"
     ],
     "output_type": "error"
    }
   ],
   "source": [
    "name = name_box.text.strip() # strip() is used to remove starting and trailing\n",
    "print name"
   ]
  },
  {
   "cell_type": "code",
   "execution_count": 8,
   "metadata": {},
   "outputs": [
    {
     "data": {
      "text/plain": [
       "<textarea id=\"links-1030010069A1F600\" readonly=\"\">\\n                              http://opendata.digitalglobe.com/hurricane-harvey/pre-event/2017-03-31/1030010069A1F600/0332122.tif\\n                              http://opendata.digitalglobe.com/hurricane-harvey/pre-event/2017-03-31/1030010069A1F600/0332122.tif.ovr\\n                              http://opendata.digitalglobe.com/hurricane-harvey/pre-event/2017-03-31/1030010069A1F600/0332123.tif\\n                              http://opendata.digitalglobe.com/hurricane-harvey/pre-event/2017-03-31/1030010069A1F600/0332123.tif.ovr\\n                              http://opendata.digitalglobe.com/hurricane-harvey/pre-event/2017-03-31/1030010069A1F600/0332132.tif\\n                              http://opendata.digitalglobe.com/hurricane-harvey/pre-event/2017-03-31/1030010069A1F600/0332132.tif.ovr\\n                              http://opendata.digitalglobe.com/hurricane-harvey/pre-event/2017-03-31/1030010069A1F600/0332300.tif\\n                              http://opendata.digitalglobe.com/hurricane-harvey/pre-event/2017-03-31/1030010069A1F600/0332300.tif.ovr\\n                              http://opendata.digitalglobe.com/hurricane-harvey/pre-event/2017-03-31/1030010069A1F600/0332301.tif\\n                              http://opendata.digitalglobe.com/hurricane-harvey/pre-event/2017-03-31/1030010069A1F600/0332301.tif.ovr\\n                              http://opendata.digitalglobe.com/hurricane-harvey/pre-event/2017-03-31/1030010069A1F600/0332302.tif\\n                              http://opendata.digitalglobe.com/hurricane-harvey/pre-event/2017-03-31/1030010069A1F600/0332302.tif.ovr\\n                              http://opendata.digitalglobe.com/hurricane-harvey/pre-event/2017-03-31/1030010069A1F600/0332303.tif\\n                              http://opendata.digitalglobe.com/hurricane-harvey/pre-event/2017-03-31/1030010069A1F600/0332303.tif.ovr\\n                              http://opendata.digitalglobe.com/hurricane-harvey/pre-event/2017-03-31/1030010069A1F600/0332310.tif\\n                              http://opendata.digitalglobe.com/hurricane-harvey/pre-event/2017-03-31/1030010069A1F600/0332310.tif.ovr\\n                              http://opendata.digitalglobe.com/hurricane-harvey/pre-event/2017-03-31/1030010069A1F600/0332312.tif\\n                              http://opendata.digitalglobe.com/hurricane-harvey/pre-event/2017-03-31/1030010069A1F600/0332312.tif.ovr\\n                              http://opendata.digitalglobe.com/hurricane-harvey/pre-event/2017-03-31/1030010069A1F600/0332320.tif\\n                              http://opendata.digitalglobe.com/hurricane-harvey/pre-event/2017-03-31/1030010069A1F600/0332320.tif.ovr\\n                              http://opendata.digitalglobe.com/hurricane-harvey/pre-event/2017-03-31/1030010069A1F600/0332321.tif\\n                              http://opendata.digitalglobe.com/hurricane-harvey/pre-event/2017-03-31/1030010069A1F600/0332321.tif.ovr\\n                              http://opendata.digitalglobe.com/hurricane-harvey/pre-event/2017-03-31/1030010069A1F600/0332322.tif\\n                              http://opendata.digitalglobe.com/hurricane-harvey/pre-event/2017-03-31/1030010069A1F600/0332322.tif.ovr\\n                              http://opendata.digitalglobe.com/hurricane-harvey/pre-event/2017-03-31/1030010069A1F600/0332323.tif\\n                              http://opendata.digitalglobe.com/hurricane-harvey/pre-event/2017-03-31/1030010069A1F600/0332323.tif.ovr\\n                              http://opendata.digitalglobe.com/hurricane-harvey/pre-event/2017-03-31/1030010069A1F600/0332330.tif\\n                              http://opendata.digitalglobe.com/hurricane-harvey/pre-event/2017-03-31/1030010069A1F600/0332330.tif.ovr\\n                              http://opendata.digitalglobe.com/hurricane-harvey/pre-event/2017-03-31/1030010069A1F600/0332332.tif\\n                              http://opendata.digitalglobe.com/hurricane-harvey/pre-event/2017-03-31/1030010069A1F600/0332332.tif.ovr\\n                              http://opendata.digitalglobe.com/hurricane-harvey/pre-event/2017-03-31/1030010069A1F600/2110100.tif\\n                              http://opendata.digitalglobe.com/hurricane-harvey/pre-event/2017-03-31/1030010069A1F600/2110100.tif.ovr\\n                              http://opendata.digitalglobe.com/hurricane-harvey/pre-event/2017-03-31/1030010069A1F600/2110101.tif\\n                              http://opendata.digitalglobe.com/hurricane-harvey/pre-event/2017-03-31/1030010069A1F600/2110101.tif.ovr\\n                              http://opendata.digitalglobe.com/hurricane-harvey/pre-event/2017-03-31/1030010069A1F600/2110102.tif\\n                              http://opendata.digitalglobe.com/hurricane-harvey/pre-event/2017-03-31/1030010069A1F600/2110102.tif.ovr\\n                              http://opendata.digitalglobe.com/hurricane-harvey/pre-event/2017-03-31/1030010069A1F600/2110103.tif\\n                              http://opendata.digitalglobe.com/hurricane-harvey/pre-event/2017-03-31/1030010069A1F600/2110103.tif.ovr\\n                              http://opendata.digitalglobe.com/hurricane-harvey/pre-event/2017-03-31/1030010069A1F600/2110110.tif\\n                              http://opendata.digitalglobe.com/hurricane-harvey/pre-event/2017-03-31/1030010069A1F600/2110110.tif.ovr\\n                              http://opendata.digitalglobe.com/hurricane-harvey/pre-event/2017-03-31/1030010069A1F600/2110112.tif\\n                              http://opendata.digitalglobe.com/hurricane-harvey/pre-event/2017-03-31/1030010069A1F600/2110112.tif.ovr\\n                              http://opendata.digitalglobe.com/hurricane-harvey/pre-event/2017-03-31/1030010069A1F600/2110120.tif\\n                              http://opendata.digitalglobe.com/hurricane-harvey/pre-event/2017-03-31/1030010069A1F600/2110120.tif.ovr\\n                              http://opendata.digitalglobe.com/hurricane-harvey/pre-event/2017-03-31/1030010069A1F600/2110121.tif\\n                              http://opendata.digitalglobe.com/hurricane-harvey/pre-event/2017-03-31/1030010069A1F600/2110121.tif.ovr\\n                              http://opendata.digitalglobe.com/hurricane-harvey/pre-event/2017-03-31/1030010069A1F600/2110122.tif\\n                              http://opendata.digitalglobe.com/hurricane-harvey/pre-event/2017-03-31/1030010069A1F600/2110122.tif.ovr\\n                              http://opendata.digitalglobe.com/hurricane-harvey/pre-event/2017-03-31/1030010069A1F600/2110123.tif\\n                              http://opendata.digitalglobe.com/hurricane-harvey/pre-event/2017-03-31/1030010069A1F600/2110123.tif.ovr\\n                              http://opendata.digitalglobe.com/hurricane-harvey/pre-event/2017-03-31/1030010069A1F600/2110130.tif\\n                              http://opendata.digitalglobe.com/hurricane-harvey/pre-event/2017-03-31/1030010069A1F600/2110130.tif.ovr\\n                              http://opendata.digitalglobe.com/hurricane-harvey/pre-event/2017-03-31/1030010069A1F600/2110132.tif\\n                              http://opendata.digitalglobe.com/hurricane-harvey/pre-event/2017-03-31/1030010069A1F600/2110132.tif.ovr\\n                              http://opendata.digitalglobe.com/hurricane-harvey/pre-event/2017-03-31/1030010069A1F600/2110300.tif\\n                              http://opendata.digitalglobe.com/hurricane-harvey/pre-event/2017-03-31/1030010069A1F600/2110300.tif.ovr\\n                              http://opendata.digitalglobe.com/hurricane-harvey/pre-event/2017-03-31/1030010069A1F600/2110301.tif\\n                              http://opendata.digitalglobe.com/hurricane-harvey/pre-event/2017-03-31/1030010069A1F600/2110301.tif.ovr\\n                              http://opendata.digitalglobe.com/hurricane-harvey/pre-event/2017-03-31/1030010069A1F600/2110302.tif\\n                              http://opendata.digitalglobe.com/hurricane-harvey/pre-event/2017-03-31/1030010069A1F600/2110302.tif.ovr\\n                              http://opendata.digitalglobe.com/hurricane-harvey/pre-event/2017-03-31/1030010069A1F600/2110303.tif\\n                              http://opendata.digitalglobe.com/hurricane-harvey/pre-event/2017-03-31/1030010069A1F600/2110303.tif.ovr\\n                              http://opendata.digitalglobe.com/hurricane-harvey/pre-event/2017-03-31/1030010069A1F600/2110310.tif\\n                              http://opendata.digitalglobe.com/hurricane-harvey/pre-event/2017-03-31/1030010069A1F600/2110310.tif.ovr\\n                              http://opendata.digitalglobe.com/hurricane-harvey/pre-event/2017-03-31/1030010069A1F600/2110312.tif\\n                              http://opendata.digitalglobe.com/hurricane-harvey/pre-event/2017-03-31/1030010069A1F600/2110312.tif.ovr\\n                              http://opendata.digitalglobe.com/hurricane-harvey/pre-event/2017-03-31/1030010069A1F600/2110320.tif\\n                              http://opendata.digitalglobe.com/hurricane-harvey/pre-event/2017-03-31/1030010069A1F600/2110320.tif.ovr\\n                              http://opendata.digitalglobe.com/hurricane-harvey/pre-event/2017-03-31/1030010069A1F600/2110321.tif\\n                              http://opendata.digitalglobe.com/hurricane-harvey/pre-event/2017-03-31/1030010069A1F600/2110321.tif.ovr\\n                              http://opendata.digitalglobe.com/hurricane-harvey/pre-event/2017-03-31/1030010069A1F600/2110322.tif\\n                              http://opendata.digitalglobe.com/hurricane-harvey/pre-event/2017-03-31/1030010069A1F600/2110322.tif.ovr\\n                              http://opendata.digitalglobe.com/hurricane-harvey/pre-event/2017-03-31/1030010069A1F600/2110323.tif\\n                              http://opendata.digitalglobe.com/hurricane-harvey/pre-event/2017-03-31/1030010069A1F600/2110323.tif.ovr\\n                              http://opendata.digitalglobe.com/hurricane-harvey/pre-event/2017-03-31/1030010069A1F600/2110330.tif\\n                              http://opendata.digitalglobe.com/hurricane-harvey/pre-event/2017-03-31/1030010069A1F600/2110330.tif.ovr\\n                              http://opendata.digitalglobe.com/hurricane-harvey/pre-event/2017-03-31/1030010069A1F600/2110332.tif\\n                              http://opendata.digitalglobe.com/hurricane-harvey/pre-event/2017-03-31/1030010069A1F600/2110332.tif.ovr\\n                              http://opendata.digitalglobe.com/hurricane-harvey/pre-event/2017-03-31/1030010069A1F600/2112100.tif\\n                              http://opendata.digitalglobe.com/hurricane-harvey/pre-event/2017-03-31/1030010069A1F600/2112100.tif.ovr\\n                              http://opendata.digitalglobe.com/hurricane-harvey/pre-event/2017-03-31/1030010069A1F600/2112101.tif\\n                              http://opendata.digitalglobe.com/hurricane-harvey/pre-event/2017-03-31/1030010069A1F600/2112101.tif.ovr\\n                              http://opendata.digitalglobe.com/hurricane-harvey/pre-event/2017-03-31/1030010069A1F600/2112102.tif\\n                              http://opendata.digitalglobe.com/hurricane-harvey/pre-event/2017-03-31/1030010069A1F600/2112102.tif.ovr\\n                              http://opendata.digitalglobe.com/hurricane-harvey/pre-event/2017-03-31/1030010069A1F600/2112103.tif\\n                              http://opendata.digitalglobe.com/hurricane-harvey/pre-event/2017-03-31/1030010069A1F600/2112103.tif.ovr\\n                              http://opendata.digitalglobe.com/hurricane-harvey/pre-event/2017-03-31/1030010069A1F600/2112110.tif\\n                              http://opendata.digitalglobe.com/hurricane-harvey/pre-event/2017-03-31/1030010069A1F600/2112110.tif.ovr\\n                              http://opendata.digitalglobe.com/hurricane-harvey/pre-event/2017-03-31/1030010069A1F600/2112112.tif\\n                              http://opendata.digitalglobe.com/hurricane-harvey/pre-event/2017-03-31/1030010069A1F600/2112112.tif.ovr\\n                              http://opendata.digitalglobe.com/hurricane-harvey/pre-event/2017-03-31/1030010069A1F600/2112120.tif\\n                              http://opendata.digitalglobe.com/hurricane-harvey/pre-event/2017-03-31/1030010069A1F600/2112120.tif.ovr\\n                              http://opendata.digitalglobe.com/hurricane-harvey/pre-event/2017-03-31/1030010069A1F600/2112121.tif\\n                              http://opendata.digitalglobe.com/hurricane-harvey/pre-event/2017-03-31/1030010069A1F600/2112121.tif.ovr\\n                              http://opendata.digitalglobe.com/hurricane-harvey/pre-event/2017-03-31/1030010069A1F600/2112130.tif\\n                              http://opendata.digitalglobe.com/hurricane-harvey/pre-event/2017-03-31/1030010069A1F600/2112130.tif.ovr\\n                          </textarea>"
      ]
     },
     "execution_count": 8,
     "metadata": {},
     "output_type": "execute_result"
    }
   ],
   "source": [
    "name_box[3]"
   ]
  },
  {
   "cell_type": "code",
   "execution_count": null,
   "metadata": {},
   "outputs": [],
   "source": []
  }
 ],
 "metadata": {
  "kernelspec": {
   "display_name": "Python 2",
   "language": "python",
   "name": "python2"
  },
  "language_info": {
   "codemirror_mode": {
    "name": "ipython",
    "version": 2
   },
   "file_extension": ".py",
   "mimetype": "text/x-python",
   "name": "python",
   "nbconvert_exporter": "python",
   "pygments_lexer": "ipython2",
   "version": "2.7.15"
  }
 },
 "nbformat": 4,
 "nbformat_minor": 2
}
