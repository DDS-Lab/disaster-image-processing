{
 "cells": [
  {
   "cell_type": "code",
   "execution_count": 3,
   "metadata": {},
   "outputs": [],
   "source": [
    "import geopandas as gpd\n",
    "import shapely \n",
    "import rasterio\n",
    "from osgeo import gdal, ogr\n",
    "import os"
   ]
  },
  {
   "cell_type": "markdown",
   "metadata": {},
   "source": [
    "## Rasterize Bounding Boxes"
   ]
  },
  {
   "cell_type": "code",
   "execution_count": null,
   "metadata": {},
   "outputs": [],
   "source": [
    "raster_path = os.getcwd()\n",
    "\n",
    "raster_layer = \"/media/seanandrewchen/seanchen_ssd/raster-data/noaa-images/noaa_images.vrt\"\n",
    "vector_layer = \"bounding_boxes.shp\"\n",
    "\n",
    "# open the raster layer and get its relevant properties\n",
    "raster = gdal.Open(raster_layer, gdal.GA_ReadOnly)\n",
    "raster_params = raster.GetGeoTransform()\n",
    "projection = raster.GetProjection()\n",
    "rasterDriver = gdal.GetDriverByName('VRT')\n",
    "\n",
    "rasterization = ogr.Open(vector_layer)\n",
    "rasterization = rasterization.GetLayer()\n",
    "\n",
    "# Create the destination data source\n",
    "temporary_source = rasterDriver.Create(raster_path  + \"boundingbox_rasterization.tif\", \n",
    "                                 raster.RasterXSize, \n",
    "                                 raster.RasterYSize,\n",
    "                                 1, #missed parameter (band)\n",
    "                                 gdal.GDT_Float32)\n",
    "\n",
    "temporary_source.SetGeoTransform(raster_params)\n",
    "temporary_source.SetProjection(projection)\n",
    "temporary_tile = temporary_source.GetRasterBand(1)\n",
    "temporary_tile.Fill(1)\n",
    "temporary_tile.SetNoDataValue(0)\n",
    "gdal.RasterizeLayer(temporary_tile, [1], rasterization, options=[\"ATTRIBUTE=value\"])\n",
    "temporary_source = None"
   ]
  },
  {
   "cell_type": "code",
   "execution_count": null,
   "metadata": {},
   "outputs": [],
   "source": [
    "rasterio.mask.mask(dataset, shapes, all_touched=False, invert=False, nodata=None, filled=True, crop=False, pad=False, indexes=None)\n"
   ]
  },
  {
   "cell_type": "markdown",
   "metadata": {},
   "source": [
    "## Clip BB Raster by NOAA Image VRT Mosaic"
   ]
  },
  {
   "cell_type": "code",
   "execution_count": null,
   "metadata": {},
   "outputs": [],
   "source": []
  },
  {
   "cell_type": "markdown",
   "metadata": {},
   "source": [
    "## Lay BB Raster on NOAA Image VRT Mosaic"
   ]
  },
  {
   "cell_type": "code",
   "execution_count": null,
   "metadata": {},
   "outputs": [],
   "source": []
  },
  {
   "cell_type": "markdown",
   "metadata": {},
   "source": [
    "## Tile NOAA Images"
   ]
  },
  {
   "cell_type": "code",
   "execution_count": null,
   "metadata": {},
   "outputs": [],
   "source": []
  },
  {
   "cell_type": "markdown",
   "metadata": {},
   "source": [
    "## Revectorize BB Band into GeoJSON including Image Filename and Pixel Coordinates"
   ]
  },
  {
   "cell_type": "code",
   "execution_count": null,
   "metadata": {},
   "outputs": [],
   "source": []
  },
  {
   "cell_type": "code",
   "execution_count": null,
   "metadata": {},
   "outputs": [],
   "source": [
    "#\n",
    "#"
   ]
  }
 ],
 "metadata": {
  "kernelspec": {
   "display_name": "Environment (conda_geospatial-analysis)",
   "language": "python",
   "name": "conda_geospatial-analysis"
  },
  "language_info": {
   "codemirror_mode": {
    "name": "ipython",
    "version": 2
   },
   "file_extension": ".py",
   "mimetype": "text/x-python",
   "name": "python",
   "nbconvert_exporter": "python",
   "pygments_lexer": "ipython2",
   "version": "2.7.15"
  }
 },
 "nbformat": 4,
 "nbformat_minor": 2
}
