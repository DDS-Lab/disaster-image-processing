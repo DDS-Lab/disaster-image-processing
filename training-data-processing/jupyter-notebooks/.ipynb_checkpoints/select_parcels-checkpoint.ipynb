{
 "cells": [
  {
   "cell_type": "code",
   "execution_count": 30,
   "metadata": {},
   "outputs": [],
   "source": [
    "import pandas as pd\n",
    "import geopandas as gpd\n",
    "from geopandas.tools import sjoin\n",
    "import glob\n",
    "import os"
   ]
  },
  {
   "cell_type": "code",
   "execution_count": 31,
   "metadata": {},
   "outputs": [],
   "source": [
    "def loadFile(file_path):\n",
    "    shape = gpd.GeoDataFrame(gpd.read_file(file_path))\n",
    "    return shape"
   ]
  },
  {
   "cell_type": "code",
   "execution_count": 79,
   "metadata": {},
   "outputs": [],
   "source": [
    "def polysWithPoints(parcels, damages, new_file):\n",
    "    parcels = loadFile(parcels)\n",
    "    damages = loadFile(damages)\n",
    "    polysWithPoints = sjoin(parcels, damages, op='contains')\n",
    "    polysWithPoints.to_file(new_file)\n",
    "    return polysWithPoints"
   ]
  },
  {
   "cell_type": "code",
   "execution_count": 57,
   "metadata": {},
   "outputs": [],
   "source": [
    "def getBaseName(string):\n",
    "    string = string.split('_')[-1]\n",
    "    string = string.split('.')[0]\n",
    "    return string"
   ]
  },
  {
   "cell_type": "code",
   "execution_count": 41,
   "metadata": {},
   "outputs": [],
   "source": [
    "path_base = \"/media/seanandrewchen/seanchen_ssd/gis-data/\"\n",
    "path_parcels = \"parcels/parcels-by-county/\"\n",
    "path_damages = \"damages/damages-by-county/\""
   ]
  },
  {
   "cell_type": "code",
   "execution_count": 66,
   "metadata": {},
   "outputs": [],
   "source": [
    "counties_parcels = sorted(glob.glob(path_base + path_parcels + \"/*.shp\"))\n",
    "counties_damages = sorted(glob.glob(path_base + path_damages + \"/*.shp\"))"
   ]
  },
  {
   "cell_type": "code",
   "execution_count": 59,
   "metadata": {},
   "outputs": [],
   "source": [
    "counties = []\n",
    "\n",
    "for e in counties_parcels:\n",
    "    counties.append(getBaseName(e))"
   ]
  },
  {
   "cell_type": "code",
   "execution_count": 75,
   "metadata": {},
   "outputs": [],
   "source": [
    "files = list(zip(counties_parcels, counties_damages, counties))"
   ]
  },
  {
   "cell_type": "code",
   "execution_count": 80,
   "metadata": {},
   "outputs": [],
   "source": [
    "for file in files:\n",
    "    newFileName = \"affected-parcels-\" + file[2] + \".shp\"\n",
    "    polysWithPoints(file[0], file[1], newFileName)"
   ]
  }
 ],
 "metadata": {
  "kernelspec": {
   "display_name": "Environment (conda_geospatial-analysis)",
   "language": "python",
   "name": "conda_geospatial-analysis"
  },
  "language_info": {
   "codemirror_mode": {
    "name": "ipython",
    "version": 2
   },
   "file_extension": ".py",
   "mimetype": "text/x-python",
   "name": "python",
   "nbconvert_exporter": "python",
   "pygments_lexer": "ipython2",
   "version": "2.7.15"
  }
 },
 "nbformat": 4,
 "nbformat_minor": 2
}
