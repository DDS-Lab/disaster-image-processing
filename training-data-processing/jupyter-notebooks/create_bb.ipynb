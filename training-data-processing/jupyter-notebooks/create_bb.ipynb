{
 "cells": [
  {
   "cell_type": "code",
   "execution_count": 1,
   "metadata": {},
   "outputs": [],
   "source": [
    "import pandas as pd\n",
    "import geopandas as gpd\n",
    "import glob"
   ]
  },
  {
   "cell_type": "code",
   "execution_count": 2,
   "metadata": {},
   "outputs": [],
   "source": [
    "def loadFile(file_path):\n",
    "    shape = gpd.GeoDataFrame(gpd.read_file(file_path))\n",
    "    return shape"
   ]
  },
  {
   "cell_type": "code",
   "execution_count": 10,
   "metadata": {},
   "outputs": [],
   "source": [
    "def createBoundingBox(file, new_name):\n",
    "    affected_structures = loadFile(file)\n",
    "    polygons = gpd.GeoSeries(affected_structures.geometry)\n",
    "    bounding_boxes = gpd.GeoSeries(polygons.envelope)\n",
    "    bounding_boxes.to_file(new_name)\n",
    "    return bounding_boxes"
   ]
  },
  {
   "cell_type": "code",
   "execution_count": 5,
   "metadata": {},
   "outputs": [],
   "source": [
    "def getBaseName(string):\n",
    "    string = string.split('_')[-1]\n",
    "    string = string.split('.')[0]\n",
    "    return string"
   ]
  },
  {
   "cell_type": "code",
   "execution_count": 7,
   "metadata": {},
   "outputs": [],
   "source": [
    "base_path = \"/media/seanandrewchen/seanchen_ssd/gis-data/training-data/affected-structures-by-county/\"\n",
    "affected_structures = sorted(glob.glob(base_path + \"/*.shp\"))\n",
    "\n",
    "counties = []\n",
    "for file in affected_structures:\n",
    "    counties.append(getBaseName(file))\n",
    "    \n",
    "files = list(zip(affected_structures, counties))"
   ]
  },
  {
   "cell_type": "code",
   "execution_count": 11,
   "metadata": {},
   "outputs": [],
   "source": [
    "for file in files:\n",
    "    new_name = \"boundingbox_\" + file[1] + \".shp\"\n",
    "    createBoundingBox(file[0], new_name)"
   ]
  }
 ],
 "metadata": {
  "kernelspec": {
   "display_name": "Environment (conda_geospatial-analysis)",
   "language": "python",
   "name": "conda_geospatial-analysis"
  },
  "language_info": {
   "codemirror_mode": {
    "name": "ipython",
    "version": 2
   },
   "file_extension": ".py",
   "mimetype": "text/x-python",
   "name": "python",
   "nbconvert_exporter": "python",
   "pygments_lexer": "ipython2",
   "version": "2.7.15"
  }
 },
 "nbformat": 4,
 "nbformat_minor": 2
}
