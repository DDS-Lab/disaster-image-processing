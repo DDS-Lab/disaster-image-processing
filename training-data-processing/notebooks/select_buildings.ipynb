{
 "cells": [
  {
   "cell_type": "code",
   "execution_count": 1,
   "metadata": {},
   "outputs": [],
   "source": [
    "import geopandas as gpd\n",
    "from shapely.geometry.polygon import Polygon\n",
    "from shapely.geometry.multipolygon import MultiPolygon\n",
    "from geopandas.tools import sjoin\n",
    "import glob\n",
    "import os"
   ]
  },
  {
   "cell_type": "code",
   "execution_count": 2,
   "metadata": {},
   "outputs": [],
   "source": [
    "def loadFile(file_path):\n",
    "    shape = gpd.GeoDataFrame(gpd.read_file(file_path))\n",
    "    return shape"
   ]
  },
  {
   "cell_type": "code",
   "execution_count": 3,
   "metadata": {},
   "outputs": [],
   "source": [
    "def buildingsInParcels(buildings, parcels, new_file):\n",
    "    buildings = loadFile(buildings)\n",
    "    parcels = loadFile(parcels)\n",
    "    affected_buildings = gpd.sjoin(buildings, parcels, op='within')\n",
    "    affected_buildings.to_file(new_file)\n",
    "    return affected_buildings"
   ]
  },
  {
   "cell_type": "code",
   "execution_count": null,
   "metadata": {},
   "outputs": [],
   "source": [
    "buildingsInParcels(\"/home/seanandrewchen/Desktop/harris_all_structures.shp\", \"/home/seanandrewchen/Desktop/harris_affected_parcels.shp\", \"affected_structures_harris.shp\")"
   ]
  }
 ],
 "metadata": {
  "kernelspec": {
   "display_name": "Environment (conda_geospatial-analysis)",
   "language": "python",
   "name": "conda_geospatial-analysis"
  },
  "language_info": {
   "codemirror_mode": {
    "name": "ipython",
    "version": 2
   },
   "file_extension": ".py",
   "mimetype": "text/x-python",
   "name": "python",
   "nbconvert_exporter": "python",
   "pygments_lexer": "ipython2",
   "version": "2.7.15"
  }
 },
 "nbformat": 4,
 "nbformat_minor": 2
}
