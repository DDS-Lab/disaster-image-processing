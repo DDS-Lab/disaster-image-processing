{
 "cells": [
  {
   "cell_type": "code",
   "execution_count": 7,
   "metadata": {},
   "outputs": [],
   "source": [
    "import pandas as pd\n",
    "import geopandas as gpd\n",
    "from geopandas.tools import sjoin\n",
    "import glob\n",
    "import os"
   ]
  },
  {
   "cell_type": "code",
   "execution_count": 1,
   "metadata": {},
   "outputs": [],
   "source": [
    "def polysWithPoints(parcels, damages, new_file):\n",
    "    parcels = loadFile(parcels)\n",
    "    damages = loadFile(damages)\n",
    "    polysWithPoints = sjoin(parcels, damages, op='contains')\n",
    "    polysWithPoints.to_file(new_file)\n",
    "    return polysWithPoints"
   ]
  },
  {
   "cell_type": "code",
   "execution_count": 8,
   "metadata": {},
   "outputs": [],
   "source": [
    "def loadFile(file_path):\n",
    "    shape = gpd.GeoDataFrame(gpd.read_file(file_path))\n",
    "    return shape"
   ]
  },
  {
   "cell_type": "code",
   "execution_count": 3,
   "metadata": {},
   "outputs": [],
   "source": [
    "def clipShape(clip_layer, input_layer, output_layer):\n",
    "    output_layer = geopandas.overlay(input_layer, clip_layer, how='intersection')\n",
    "    return output_layer"
   ]
  },
  {
   "cell_type": "code",
   "execution_count": 9,
   "metadata": {},
   "outputs": [],
   "source": [
    "path_base = \"/media/seanandrewchen/seanchen_ssd/gis-data/\"\n",
    "path_parcels = \"structures/texas-structures/\"\n",
    "path_counties = \"counties/\""
   ]
  },
  {
   "cell_type": "code",
   "execution_count": 10,
   "metadata": {},
   "outputs": [],
   "source": [
    "counties = loadFile(path_base + path_counties + \"affected-counties-clipped-by-parcels.shp\")"
   ]
  }
 ],
 "metadata": {
  "kernelspec": {
   "display_name": "Environment (conda_geospatial-analysis)",
   "language": "python",
   "name": "conda_geospatial-analysis"
  },
  "language_info": {
   "codemirror_mode": {
    "name": "ipython",
    "version": 2
   },
   "file_extension": ".py",
   "mimetype": "text/x-python",
   "name": "python",
   "nbconvert_exporter": "python",
   "pygments_lexer": "ipython2",
   "version": "2.7.15"
  }
 },
 "nbformat": 4,
 "nbformat_minor": 2
}
