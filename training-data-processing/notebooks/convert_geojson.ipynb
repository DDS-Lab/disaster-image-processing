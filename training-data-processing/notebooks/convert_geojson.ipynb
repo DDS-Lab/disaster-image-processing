{
 "cells": [
  {
   "cell_type": "code",
   "execution_count": 1,
   "metadata": {},
   "outputs": [],
   "source": [
    "import geopandas as gpd"
   ]
  },
  {
   "cell_type": "code",
   "execution_count": 2,
   "metadata": {},
   "outputs": [],
   "source": [
    "def loadFile(file_path):\n",
    "    shape = gpd.GeoDataFrame(gpd.read_file(file_path))\n",
    "    return shape"
   ]
  },
  {
   "cell_type": "code",
   "execution_count": 5,
   "metadata": {},
   "outputs": [],
   "source": [
    "def getBaseName(string):\n",
    "    string = string.split('_')[-1]\n",
    "    string = string.split('.')[0]\n",
    "    return string\n",
    "\n",
    "def createFileName(file_path):\n",
    "    base = getBaseName(file_path)\n",
    "    name = \"boundingboxes_\" + base + \".geojson\"\n",
    "    return name"
   ]
  },
  {
   "cell_type": "code",
   "execution_count": 3,
   "metadata": {},
   "outputs": [],
   "source": [
    "def writeGeoJSON(geodataframe, name):\n",
    "    geodataframe.to_file(name, format=\"GeoJSON\")"
   ]
  },
  {
   "cell_type": "code",
   "execution_count": null,
   "metadata": {},
   "outputs": [],
   "source": [
    "path_base = \"/media/seanandrewchen/seanchen_ssd/gis-data/training-data/affected-structures-bounding-boxes-by-county/\"\n",
    "\n",
    "bounding_boxes = sorted(glob.glob(path_base + \"/*.shp\"))\n",
    "\n",
    "counties = []\n",
    "\n",
    "for e in bounding_boxes:\n",
    "    counties.append(createFileName(e))\n",
    "\n",
    "files = list(zip(bounding_boxes, names))"
   ]
  },
  {
   "cell_type": "code",
   "execution_count": null,
   "metadata": {},
   "outputs": [],
   "source": [
    "for file in files:\n",
    "    writeGeoJSON(file[0], file[1])"
   ]
  }
 ],
 "metadata": {
  "kernelspec": {
   "display_name": "Environment (conda_geospatial-analysis)",
   "language": "python",
   "name": "conda_geospatial-analysis"
  },
  "language_info": {
   "codemirror_mode": {
    "name": "ipython",
    "version": 2
   },
   "file_extension": ".py",
   "mimetype": "text/x-python",
   "name": "python",
   "nbconvert_exporter": "python",
   "pygments_lexer": "ipython2",
   "version": "2.7.15"
  }
 },
 "nbformat": 4,
 "nbformat_minor": 2
}
