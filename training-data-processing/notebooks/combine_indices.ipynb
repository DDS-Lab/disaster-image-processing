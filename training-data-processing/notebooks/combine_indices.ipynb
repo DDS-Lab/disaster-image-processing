{
 "cells": [
  {
   "cell_type": "code",
   "execution_count": 22,
   "metadata": {},
   "outputs": [],
   "source": [
    "import psycopg2\n",
    "import sqlalchemy\n",
    "from sqlalchemy import create_engine\n",
    "import osgeo.ogr\n",
    "import shapely\n",
    "import shapely.wkt, shapely.wkb\n",
    "import geopandas as gpd\n",
    "import pandas as pd\n",
    "%matplotlib inline"
   ]
  },
  {
   "cell_type": "code",
   "execution_count": 23,
   "metadata": {},
   "outputs": [],
   "source": [
    "params = {\n",
    "  'dbname': 'training_data',\n",
    "  'user': 'administrator',\n",
    "  'password': 'ilike2dodachacha!!',\n",
    "  'host': 'dssg-data.czoeuvaufkjq.us-west-2.rds.amazonaws.com',\n",
    "  'port': 5432\n",
    "}\n",
    "\n",
    "connection = psycopg2.connect(**params)\n",
    "cursor = connection.cursor()"
   ]
  },
  {
   "cell_type": "code",
   "execution_count": 28,
   "metadata": {},
   "outputs": [],
   "source": [
    "def loadSQL(query, connection):\n",
    "    gdf = gpd.read_postgis(query, connection, \n",
    "                        geom_col='geom', crs={'init': 'epsg:4326'}, \n",
    "                        coerce_float=False)\n",
    "    return gdf"
   ]
  },
  {
   "cell_type": "code",
   "execution_count": 32,
   "metadata": {},
   "outputs": [],
   "source": [
    "affected_indices = loadSQL(\"select * from indices.all_affected_indices\", connection)\n"
   ]
  },
  {
   "cell_type": "code",
   "execution_count": 38,
   "metadata": {},
   "outputs": [],
   "source": [
    "images = affected_indices['location'].unique()"
   ]
  },
  {
   "cell_type": "code",
   "execution_count": 39,
   "metadata": {},
   "outputs": [],
   "source": [
    "outF = open(\"image_list.txt\", \"w\")\n",
    "for line in images:\n",
    "  # write line to output file\n",
    "  outF.write(line)\n",
    "  outF.write(\"\\n\")\n",
    "outF.close()"
   ]
  },
  {
   "cell_type": "code",
   "execution_count": null,
   "metadata": {},
   "outputs": [],
   "source": []
  }
 ],
 "metadata": {
  "kernelspec": {
   "display_name": "Environment (conda_geospatial-analysis)",
   "language": "python",
   "name": "conda_geospatial-analysis"
  },
  "language_info": {
   "codemirror_mode": {
    "name": "ipython",
    "version": 2
   },
   "file_extension": ".py",
   "mimetype": "text/x-python",
   "name": "python",
   "nbconvert_exporter": "python",
   "pygments_lexer": "ipython2",
   "version": "2.7.15"
  }
 },
 "nbformat": 4,
 "nbformat_minor": 2
}
