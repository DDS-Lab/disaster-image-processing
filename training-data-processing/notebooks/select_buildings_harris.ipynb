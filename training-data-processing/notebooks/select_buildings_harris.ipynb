{
 "cells": [
  {
   "cell_type": "code",
   "execution_count": 15,
   "metadata": {},
   "outputs": [],
   "source": [
    "import geopandas as gpd\n",
    "from shapely.geometry.polygon import Polygon\n",
    "from shapely.geometry.multipolygon import MultiPolygon\n",
    "from geopandas.tools import sjoin\n",
    "import glob\n",
    "import os"
   ]
  },
  {
   "cell_type": "code",
   "execution_count": 16,
   "metadata": {},
   "outputs": [],
   "source": [
    "def explodeMultiPolygons(file_in):\n",
    "    df_in = gpd.GeoDataFrame.from_file(file_in)\n",
    "    df_out = gpd.GeoDataFrame(columns=df_in.columns)\n",
    "    for idx, row in df_in.iterrows():\n",
    "        if type(row.geometry) == Polygon:\n",
    "            df_out = df_out.append(row,ignore_index=True)\n",
    "        if type(row.geometry) == MultiPolygon:\n",
    "            df_mult = gpd.GeoDataFrame(columns=df_in.columns)\n",
    "            recs = len(row.geometry)\n",
    "            df_mult = df_mult.append([row]*recs,ignore_index=True)\n",
    "            for geom in range(recs):\n",
    "                df_mult.loc[geom,'geometry'] = row.geometry[geom]\n",
    "            df_out = df_out.append(df_mult,ignore_index=True)\n",
    "    return df_out"
   ]
  },
  {
   "cell_type": "code",
   "execution_count": 17,
   "metadata": {},
   "outputs": [],
   "source": [
    "def removeMultipolygons(geodataframe):\n",
    "    df_in = geodataframe\n",
    "    df_out = gpd.GeoDataFrame(columns=df_in.columns)\n",
    "    for idx, row in df_in.iterrows():\n",
    "        if type(row.geometry) == Polygon:\n",
    "            df_out = df_out.append(row,ignore_index=True)\n",
    "        else:\n",
    "            continue\n",
    "    return df_out"
   ]
  },
  {
   "cell_type": "code",
   "execution_count": 18,
   "metadata": {},
   "outputs": [],
   "source": [
    "def loadFile(file_path):\n",
    "    shape = gpd.GeoDataFrame(gpd.read_file(file_path))\n",
    "    return shape"
   ]
  },
  {
   "cell_type": "code",
   "execution_count": 19,
   "metadata": {},
   "outputs": [],
   "source": [
    "def buildingsInParcels(buildings, parcels, new_file):\n",
    "    buildings = loadFile(buildings)\n",
    "    parcels = loadFile(parcels)\n",
    "    affected_buildings = gpd.sjoin(buildings, parcels, op='within')\n",
    "    affected_buildings = removeMultipolygons(affected_buildings)\n",
    "    affected_buildings.to_file(new_file)\n",
    "    return affected_buildings"
   ]
  },
  {
   "cell_type": "code",
   "execution_count": 20,
   "metadata": {},
   "outputs": [],
   "source": [
    "def getBaseName(string):\n",
    "    string = string.split('_')[-1]\n",
    "    string = string.split('.')[0]\n",
    "    return string"
   ]
  },
  {
   "cell_type": "code",
   "execution_count": 21,
   "metadata": {},
   "outputs": [],
   "source": [
    "path_base = \"/media/seanandrewchen/seanchen_ssd/gis-data/\"\n",
    "path_parcels = \"training-data/affected-parcels-by-county/\"\n",
    "path_structures = \"structures/structures-by-county/\"\n",
    "\n",
    "counties_parcels = sorted(glob.glob(path_base + path_parcels + \"/*.shp\"))\n",
    "counties_structures = sorted(glob.glob(path_base + path_structures + \"/*.shp\"))\n",
    "\n",
    "counties = []\n",
    "\n",
    "for e in counties_structures:\n",
    "    counties.append(getBaseName(e))\n",
    "\n",
    "files = list(zip(counties_structures, counties_parcels, counties))"
   ]
  },
  {
   "cell_type": "code",
   "execution_count": 22,
   "metadata": {},
   "outputs": [
    {
     "data": {
      "text/plain": [
       "[('/media/seanandrewchen/seanchen_ssd/gis-data/structures/structures-by-county/clipped_structures_aransas.shp',\n",
       "  '/media/seanandrewchen/seanchen_ssd/gis-data/training-data/affected-parcels-by-county/affected-parcels-Aransas.shp',\n",
       "  'aransas'),\n",
       " ('/media/seanandrewchen/seanchen_ssd/gis-data/structures/structures-by-county/clipped_structures_brazoria.shp',\n",
       "  '/media/seanandrewchen/seanchen_ssd/gis-data/training-data/affected-parcels-by-county/affected-parcels-Brazoria.shp',\n",
       "  'brazoria'),\n",
       " ('/media/seanandrewchen/seanchen_ssd/gis-data/structures/structures-by-county/clipped_structures_calhoun.shp',\n",
       "  '/media/seanandrewchen/seanchen_ssd/gis-data/training-data/affected-parcels-by-county/affected-parcels-Calhoun.shp',\n",
       "  'calhoun'),\n",
       " ('/media/seanandrewchen/seanchen_ssd/gis-data/structures/structures-by-county/clipped_structures_fortbend.shp',\n",
       "  '/media/seanandrewchen/seanchen_ssd/gis-data/training-data/affected-parcels-by-county/affected-parcels-FortBend.shp',\n",
       "  'fortbend'),\n",
       " ('/media/seanandrewchen/seanchen_ssd/gis-data/structures/structures-by-county/clipped_structures_galveston.shp',\n",
       "  '/media/seanandrewchen/seanchen_ssd/gis-data/training-data/affected-parcels-by-county/affected-parcels-Galveston.shp',\n",
       "  'galveston'),\n",
       " ('/media/seanandrewchen/seanchen_ssd/gis-data/structures/structures-by-county/clipped_structures_harris.shp',\n",
       "  '/media/seanandrewchen/seanchen_ssd/gis-data/training-data/affected-parcels-by-county/affected-parcels-Harris.shp',\n",
       "  'harris'),\n",
       " ('/media/seanandrewchen/seanchen_ssd/gis-data/structures/structures-by-county/clipped_structures_jefferson.shp',\n",
       "  '/media/seanandrewchen/seanchen_ssd/gis-data/training-data/affected-parcels-by-county/affected-parcels-Jefferson.shp',\n",
       "  'jefferson'),\n",
       " ('/media/seanandrewchen/seanchen_ssd/gis-data/structures/structures-by-county/clipped_structures_matagorda.shp',\n",
       "  '/media/seanandrewchen/seanchen_ssd/gis-data/training-data/affected-parcels-by-county/affected-parcels-Matagorda.shp',\n",
       "  'matagorda'),\n",
       " ('/media/seanandrewchen/seanchen_ssd/gis-data/structures/structures-by-county/clipped_structures_montgomery.shp',\n",
       "  '/media/seanandrewchen/seanchen_ssd/gis-data/training-data/affected-parcels-by-county/affected-parcels-Montgomery.shp',\n",
       "  'montgomery'),\n",
       " ('/media/seanandrewchen/seanchen_ssd/gis-data/structures/structures-by-county/clipped_structures_nueces.shp',\n",
       "  '/media/seanandrewchen/seanchen_ssd/gis-data/training-data/affected-parcels-by-county/affected-parcels-Nueces.shp',\n",
       "  'nueces'),\n",
       " ('/media/seanandrewchen/seanchen_ssd/gis-data/structures/structures-by-county/clipped_structures_orange.shp',\n",
       "  '/media/seanandrewchen/seanchen_ssd/gis-data/training-data/affected-parcels-by-county/affected-parcels-Orange.shp',\n",
       "  'orange'),\n",
       " ('/media/seanandrewchen/seanchen_ssd/gis-data/structures/structures-by-county/clipped_structures_victoria.shp',\n",
       "  '/media/seanandrewchen/seanchen_ssd/gis-data/training-data/affected-parcels-by-county/affected-parcels-Victoria.shp',\n",
       "  'victoria'),\n",
       " ('/media/seanandrewchen/seanchen_ssd/gis-data/structures/structures-by-county/clipped_structures_wharton.shp',\n",
       "  '/media/seanandrewchen/seanchen_ssd/gis-data/training-data/affected-parcels-by-county/affected-parcels-Wharton.shp',\n",
       "  'wharton')]"
      ]
     },
     "execution_count": 22,
     "metadata": {},
     "output_type": "execute_result"
    }
   ],
   "source": [
    "files"
   ]
  },
  {
   "cell_type": "code",
   "execution_count": 23,
   "metadata": {},
   "outputs": [
    {
     "name": "stdout",
     "output_type": "stream",
     "text": [
      "0:aransas\n",
      "1:brazoria\n",
      "2:calhoun\n",
      "3:fortbend\n",
      "4:galveston\n",
      "5:harris\n",
      "6:jefferson\n",
      "7:matagorda\n",
      "8:montgomery\n",
      "9:nueces\n",
      "10:orange\n",
      "11:victoria\n",
      "12:wharton\n"
     ]
    }
   ],
   "source": [
    "for index, file in enumerate(files):\n",
    "    print(str(index) + \":\" + file[2])"
   ]
  },
  {
   "cell_type": "code",
   "execution_count": 14,
   "metadata": {},
   "outputs": [],
   "source": [
    "for file in files:\n",
    "    new_name = \"affected_structures_\" + file[2] + \".shp\"\n",
    "    buildingsInParcels(file[0], file[1], new_name)"
   ]
  },
  {
   "cell_type": "code",
   "execution_count": null,
   "metadata": {},
   "outputs": [],
   "source": [
    "buildingsInParcels(files[5][0], files[5][1], \"affected_structures_harris.shp\")"
   ]
  }
 ],
 "metadata": {
  "kernelspec": {
   "display_name": "Environment (conda_geospatial-analysis)",
   "language": "python",
   "name": "conda_geospatial-analysis"
  },
  "language_info": {
   "codemirror_mode": {
    "name": "ipython",
    "version": 2
   },
   "file_extension": ".py",
   "mimetype": "text/x-python",
   "name": "python",
   "nbconvert_exporter": "python",
   "pygments_lexer": "ipython2",
   "version": "2.7.15"
  }
 },
 "nbformat": 4,
 "nbformat_minor": 2
}
